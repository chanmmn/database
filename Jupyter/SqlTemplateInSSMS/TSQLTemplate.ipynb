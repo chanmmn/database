{
    "metadata": {
        "kernelspec": {
            "name": "SQL",
            "display_name": "SQL",
            "language": "sql"
        },
        "language_info": {
            "name": "sql",
            "version": ""
        }
    },
    "nbformat_minor": 2,
    "nbformat": 4,
    "cells": [
        {
            "cell_type": "markdown",
            "source": [
                "Create Stored Procedure"
            ],
            "metadata": {
                "azdata_cell_guid": "657b8075-6d69-4928-be18-223644ba099b"
            },
            "attachments": {}
        },
        {
            "cell_type": "code",
            "source": [
                "-- ================================================\r\n",
                "-- Template generated from Template Explorer using:\r\n",
                "-- Create Procedure (New Menu).SQL\r\n",
                "--\r\n",
                "-- Use the Specify Values for Template Parameters \r\n",
                "-- command (Ctrl-Shift-M) to fill in the parameter \r\n",
                "-- values below.\r\n",
                "--\r\n",
                "-- This block of comments will not be included in\r\n",
                "-- the definition of the procedure.\r\n",
                "-- ================================================\r\n",
                "SET ANSI_NULLS ON\r\n",
                "GO\r\n",
                "SET QUOTED_IDENTIFIER ON\r\n",
                "GO\r\n",
                "-- =============================================\r\n",
                "-- Author:\t\t<Author,,Name>\r\n",
                "-- Create date: <Create Date,,>\r\n",
                "-- Description:\t<Description,,>\r\n",
                "-- =============================================\r\n",
                "CREATE PROCEDURE <Procedure_Name, sysname, ProcedureName> \r\n",
                "\t-- Add the parameters for the stored procedure here\r\n",
                "\t<@Param1, sysname, @p1> <Datatype_For_Param1, , int> = <Default_Value_For_Param1, , 0>, \r\n",
                "\t<@Param2, sysname, @p2> <Datatype_For_Param2, , int> = <Default_Value_For_Param2, , 0>\r\n",
                "AS\r\n",
                "BEGIN\r\n",
                "\t-- SET NOCOUNT ON added to prevent extra result sets from\r\n",
                "\t-- interfering with SELECT statements.\r\n",
                "\tSET NOCOUNT ON;\r\n",
                "\r\n",
                "    -- Insert statements for procedure here\r\n",
                "\tSELECT <@Param1, sysname, @p1>, <@Param2, sysname, @p2>\r\n",
                "END\r\n",
                "GO"
            ],
            "metadata": {
                "azdata_cell_guid": "6a33967e-d15d-4748-9ae1-815b09aeae73",
                "tags": []
            },
            "outputs": [],
            "execution_count": null
        },
        {
            "cell_type": "markdown",
            "source": [
                "Create View"
            ],
            "metadata": {
                "azdata_cell_guid": "0cbf3392-cc1b-4f06-bdab-0107f23b7c9c"
            },
            "attachments": {}
        },
        {
            "cell_type": "code",
            "source": [
                "CREATE VIEW <View Name>\r\n",
                "AS  \r\n",
                "SELECT <columns>\r\n",
                "FROM <Table?"
            ],
            "metadata": {
                "azdata_cell_guid": "fd20eb5f-95ff-49b7-b57f-968788c9bd50"
            },
            "outputs": [],
            "execution_count": null
        },
        {
            "cell_type": "markdown",
            "source": [
                "Create Inline table-valued function"
            ],
            "metadata": {
                "azdata_cell_guid": "a3cfb4ca-ba0f-468b-80db-7773ada35c45"
            },
            "attachments": {}
        },
        {
            "cell_type": "code",
            "source": [
                "-- ================================================\r\n",
                "-- Template generated from Template Explorer using:\r\n",
                "-- Create Inline Function (New Menu).SQL\r\n",
                "--\r\n",
                "-- Use the Specify Values for Template Parameters \r\n",
                "-- command (Ctrl-Shift-M) to fill in the parameter \r\n",
                "-- values below.\r\n",
                "--\r\n",
                "-- This block of comments will not be included in\r\n",
                "-- the definition of the function.\r\n",
                "-- ================================================\r\n",
                "SET ANSI_NULLS ON\r\n",
                "GO\r\n",
                "SET QUOTED_IDENTIFIER ON\r\n",
                "GO\r\n",
                "-- =============================================\r\n",
                "-- Author:\t\t<Author,,Name>\r\n",
                "-- Create date: <Create Date,,>\r\n",
                "-- Description:\t<Description,,>\r\n",
                "-- =============================================\r\n",
                "CREATE FUNCTION <Inline_Function_Name, sysname, FunctionName> \r\n",
                "(\t\r\n",
                "\t-- Add the parameters for the function here\r\n",
                "\t<@param1, sysname, @p1> <Data_Type_For_Param1, , int>, \r\n",
                "\t<@param2, sysname, @p2> <Data_Type_For_Param2, , char>\r\n",
                ")\r\n",
                "RETURNS TABLE \r\n",
                "AS\r\n",
                "RETURN \r\n",
                "(\r\n",
                "\t-- Add the SELECT statement with parameter references here\r\n",
                "\tSELECT 0\r\n",
                ")\r\n",
                "GO"
            ],
            "metadata": {
                "azdata_cell_guid": "fae0e8bf-c428-439c-a0ed-3e41c91bf3e5"
            },
            "outputs": [],
            "execution_count": null
        },
        {
            "cell_type": "markdown",
            "source": [
                ""
            ],
            "metadata": {
                "azdata_cell_guid": "d4bf0f17-11c8-4d8a-aadc-53d77681c864"
            }
        }
    ]
}